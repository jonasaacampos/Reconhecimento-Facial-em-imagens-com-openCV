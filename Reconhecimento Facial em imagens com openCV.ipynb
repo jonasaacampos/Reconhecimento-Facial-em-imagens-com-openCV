{
 "cells": [
  {
   "cell_type": "markdown",
   "metadata": {},
   "source": [
    "## Reconhecimento Facial em imagens com openCV"
   ]
  },
  {
   "cell_type": "markdown",
   "metadata": {},
   "source": [
    "O rosto humano, apesar das variações de pessoa para pessoa, possui uma composição básica que não se altera, lida pelos aplicativos como pontos em comum, que variam de acordo com a complexidade do sistema.\n",
    "\n",
    "Ao utilizar algoritmos e um software que mapeiam esse padrão nas pessoas, é possível registrar apenas o rosto ou todos os movimentos e empregá-los nas mais diversas funções. Todas possuem o mesmo princípio: detectar um rosto em formas geométricas e logarítmicas e então montá-lo como em um quebra-cabeça. (Kleina, 2021)\n",
    "\n",
    "Para reconhecer as imagens, usarei a Open Source Computer Vision Library (OpenCV), que é uma biblioteca com mais de 2500 algoritmos de visão computacional e aprendizado de máquina. Possui uma comunidade estimada em mais de 47 mil usuários colaboradores, e o download da biblioteca passa os 18 milhões (OpenCV, 2021)."
   ]
  },
  {
   "cell_type": "code",
   "execution_count": 19,
   "metadata": {},
   "outputs": [],
   "source": [
    "import cv2\n",
    "\n",
    "from IPython.display import Image"
   ]
  },
  {
   "cell_type": "code",
   "execution_count": 29,
   "metadata": {},
   "outputs": [
    {
     "data": {
      "text/html": [
       "<img src=\"/data/img/face-recognition-2.jpg\"/>"
      ],
      "text/plain": [
       "<IPython.core.display.Image object>"
      ]
     },
     "execution_count": 29,
     "metadata": {},
     "output_type": "execute_result"
    }
   ],
   "source": [
    "# para instalar a biblioteca OpenCV use o comando a seguir.\n",
    "#!pip install opencv-contrib-python\n",
    "Image(url='/data/img/face-recognition-2.jpg')"
   ]
  },
  {
   "cell_type": "markdown",
   "metadata": {},
   "source": [
    "## Como são reconhecidos os rostos em imagens?\n",
    "\n",
    "Para analisar estes arquivos, usarei a técnica do *haar-like cascades features*.\n",
    "Segundo Antonello (2014) a tradução desta técnica seria algo como “características em cascata do tipo haar”. A palavra *haar* não possui tradução já que o nome deriva dos *wavelets Haar* (ondaleta ou onduleta de Haar) que foram usados no primeiro detector de rosto em tempo real.\n",
    "\n",
    "*\"A principal vantagem da técnica é a baixa necessidade de processamento para realizar a identificação dos objetos, o que se traduz em alta velocidade de detecção. \"*\\[p.49\\]\n",
    "\n",
    "Foi desenvolvido um método baseado nas onduletas de Haar, que considera as regiões retangulares adjacentes num local específico e então ocorre o processamento da intensidades dos pixels em cada região, calculando a diferença entre eles e categorizando subseções da imagem.\n",
    "\n",
    "*Por exemplo, digamos que temos imagens com faces humanas. É uma característica comum que entre todas as faces a região dos olhos é mais escura do que a região das bochechas. Portanto, uma característica Haar comum para a detecção de face é um conjunto de dois retângulos adjacentes que ficam na região dos olhos e acima da região das bochechas. A posição desses retângulos é definida em relação a uma janela de detecção que age como uma caixa delimitadora para o objeto alvo (a face, neste caso).*\\[p49-50\\]\n",
    "\n",
    "\n",
    "\n"
   ]
  },
  {
   "cell_type": "markdown",
   "metadata": {},
   "source": [
    "### Selecionado a imagem e transformado-a em uma matriz unidimencional (array)"
   ]
  },
  {
   "cell_type": "code",
   "execution_count": 2,
   "metadata": {},
   "outputs": [],
   "source": [
    "# carrega imagem e transforma em um array numpy\n",
    "img = cv2.imread('data/img/torcida2.jpg')\n",
    "# converte a imagem para tons de cinza( e transforma em um array numpy)\n",
    "img_gray_tone = cv2.cvtColor(img, cv2.COLOR_BGR2GRAY)"
   ]
  },
  {
   "cell_type": "code",
   "execution_count": 3,
   "metadata": {},
   "outputs": [],
   "source": [
    "# carrega padrões de identificação de faces\n",
    "default_faces_frontal = cv2.CascadeClassifier('data/haarcascade_profileface.xml')"
   ]
  },
  {
   "cell_type": "code",
   "execution_count": 4,
   "metadata": {},
   "outputs": [],
   "source": [
    "# executa a detecção de faces\n",
    "faces = default_faces_frontal.detectMultiScale(img_gray_tone,\n",
    "                                              scaleFactor = 1.05,\n",
    "                                              minNeighbors = 7,\n",
    "                                              minSize = (20, 20),\n",
    "                                              flags = cv2.CASCADE_SCALE_IMAGE)"
   ]
  },
  {
   "cell_type": "code",
   "execution_count": 5,
   "metadata": {},
   "outputs": [],
   "source": [
    "# marca com retângulos as faces reconhecidas\n",
    "for (x, y, weight, height) in faces:\n",
    "    cv2.rectangle(img, (x, y), (x + weight, y + height), (0, 255, 255), 7)"
   ]
  },
  {
   "cell_type": "code",
   "execution_count": null,
   "metadata": {},
   "outputs": [],
   "source": [
    "# exibe a imagem com uma contagem dos rostos reconhecidos\n",
    "\n",
    "cv2.imshow(str(len(faces)) + 'rostos encontrados.', img)\n",
    "cv2.waitKey(0)"
   ]
  },
  {
   "cell_type": "code",
   "execution_count": 20,
   "metadata": {},
   "outputs": [
    {
     "name": "stdout",
     "output_type": "stream",
     "text": [
      "Foram encontrados 108 rostos\n"
     ]
    },
    {
     "data": {
      "text/html": [
       "<img src=\"results/result_profileface.jpg\"/>"
      ],
      "text/plain": [
       "<IPython.core.display.Image object>"
      ]
     },
     "execution_count": 20,
     "metadata": {},
     "output_type": "execute_result"
    }
   ],
   "source": [
    "# salva imagem marcada\n",
    "\n",
    "print(f'Foram encontrados {len(faces)} rostos')\n",
    "cv2.imwrite('results/result_profileface.jpg', img)\n",
    "\n",
    "# exibe a imagem nesta mesma janela\n",
    "Image(url = 'results/result_profileface.jpg')"
   ]
  },
  {
   "cell_type": "markdown",
   "metadata": {},
   "source": [
    "#### Vamos criar uma função para reconhecer as imagens\n",
    "\n",
    "Até aqui usamos os comandos isolados para melhor compreensão e explicação do tema. Vamos unir os passos anteriores em funções, para agilizar nossa vida.\n",
    "\n"
   ]
  },
  {
   "cell_type": "code",
   "execution_count": 7,
   "metadata": {},
   "outputs": [],
   "source": [
    "# função que mostra a imagem reconhecida marcada com quadrados amarelos\n",
    "def imgShow(output):  \n",
    "    from IPython.display import Image  \n",
    "    Image(url = f'data/{output}')"
   ]
  },
  {
   "cell_type": "code",
   "execution_count": 8,
   "metadata": {},
   "outputs": [],
   "source": [
    "# função que recebe o caminho do arquivo e o nome do arquivo a ser salvo.\n",
    "# o arquivo recebido é transformado em uma matriz, depois é analisado com\n",
    "# base nos padrões de reconhecimento de rosto e retorna um arquivo marcado\n",
    "# e conta a quantidade de rostos que reconheceu.\n",
    "\n",
    "def imgFaceDetect(arquivo, nome_resultado):\n",
    "    # carrega imagem e transforma em um array numpy\n",
    "    img = cv2.imread(arquivo)\n",
    "    # converte a imagem para tons de cinza( e transforma em um array numpy)\n",
    "    img_gray_tone = cv2.cvtColor(img, cv2.COLOR_BGR2GRAY)\n",
    "\n",
    "    # carrega padrões de identificação de faces\n",
    "    default_faces_frontal = cv2.CascadeClassifier('data/haarcascade_profileface.xml')\n",
    "\n",
    "    # executa a detecção de faces\n",
    "    faces = default_faces_frontal.detectMultiScale(img_gray_tone, minNeighbors = 7, minSize = (20, 20), flags = cv2.CASCADE_SCALE_IMAGE)\n",
    "    # marca com retângulos as faces reconhecidas\n",
    "    for (x, y, weight, height) in faces:\n",
    "        cv2.rectangle(img, (x, y), (x + weight, y + height), (0, 255, 255), 7)\n",
    "\n",
    "    # salva imagem marcada\n",
    "    print(f'Foram encontrados {len(faces)} rostos')\n",
    "    cv2.imwrite(nome_resultado, img)\n",
    "    # exibe imagem e contagem de faces\n",
    "    \n",
    "    imgShow(nome_resultado)\n",
    "    \n"
   ]
  },
  {
   "cell_type": "code",
   "execution_count": 9,
   "metadata": {},
   "outputs": [
    {
     "name": "stdout",
     "output_type": "stream",
     "text": [
      "Foram encontrados 38 rostos\n"
     ]
    }
   ],
   "source": [
    "imgFaceDetect('data/img/torcida1.jpg', 'results/torcida1.jpg')"
   ]
  },
  {
   "cell_type": "code",
   "execution_count": 10,
   "metadata": {},
   "outputs": [],
   "source": [
    "imgShow('results/torcida1.jpg')"
   ]
  },
  {
   "cell_type": "code",
   "execution_count": null,
   "metadata": {},
   "outputs": [],
   "source": [
    "### por algum motivo a exibição da imagem não está dando certo\n",
    "# nem na função imgFaceDetect() e nem na imgShow()\n",
    "# se alguém souber, por favor me avise o porquê. \n",
    "#xD"
   ]
  },
  {
   "cell_type": "code",
   "execution_count": 11,
   "metadata": {},
   "outputs": [
    {
     "name": "stdout",
     "output_type": "stream",
     "text": [
      "Foram encontrados 38 rostos\n"
     ]
    },
    {
     "data": {
      "text/html": [
       "<img src=\"results/torcida1.jpg\"/>"
      ],
      "text/plain": [
       "<IPython.core.display.Image object>"
      ]
     },
     "execution_count": 11,
     "metadata": {},
     "output_type": "execute_result"
    }
   ],
   "source": [
    "# Vou mostrar as demais saídas usando nossa função e chamando o iPython para exibir o resultado\n",
    "imgFaceDetect('data/img/torcida1.jpg', 'results/torcida1.jpg')\n",
    "\n",
    "Image(url = 'results/torcida1.jpg')"
   ]
  },
  {
   "cell_type": "markdown",
   "metadata": {},
   "source": [
    "### Limitação na detecção\n",
    "\n",
    "Vemos que nosso modelo de detectção não conseguiu reconhecer os rostos de todas as crianças.\n",
    "\n",
    "Isso porque a a distância entre olhos, nariz e boca é diferente das de um adulto. \n",
    "\n",
    "Seria necessário construir um modelo específico para crianças para que tenhamos sucesso no reconhecimento de rostos."
   ]
  },
  {
   "cell_type": "code",
   "execution_count": 12,
   "metadata": {
    "scrolled": true
   },
   "outputs": [
    {
     "name": "stdout",
     "output_type": "stream",
     "text": [
      "Foram encontrados 1 rostos\n"
     ]
    },
    {
     "data": {
      "text/html": [
       "<img src=\"results/criancas1.jpg\"/>"
      ],
      "text/plain": [
       "<IPython.core.display.Image object>"
      ]
     },
     "execution_count": 12,
     "metadata": {},
     "output_type": "execute_result"
    }
   ],
   "source": [
    "# Vou mostrar as demais saídas usando nossa função e chamando o iPython para exibir o resultado\n",
    "imgFaceDetect('data/img/criancas1.jpg', 'results/criancas1.jpg')\n",
    "from IPython.display import Image\n",
    "Image(url = 'results/criancas1.jpg')"
   ]
  },
  {
   "cell_type": "code",
   "execution_count": 30,
   "metadata": {},
   "outputs": [
    {
     "name": "stdout",
     "output_type": "stream",
     "text": [
      "Foram encontrados 0 rostos\n"
     ]
    },
    {
     "data": {
      "text/html": [
       "<img src=\"results/criancas3.jpg\"/>"
      ],
      "text/plain": [
       "<IPython.core.display.Image object>"
      ]
     },
     "execution_count": 30,
     "metadata": {},
     "output_type": "execute_result"
    }
   ],
   "source": [
    "# Vou mostrar as demais saídas usando nossa função e chamando o iPython para exibir o resultado\n",
    "imgFaceDetect('data/img/criancas3.jpg', 'results/criancas3.jpg')\n",
    "Image(url = 'results/criancas3.jpg')"
   ]
  },
  {
   "cell_type": "code",
   "execution_count": 31,
   "metadata": {},
   "outputs": [
    {
     "name": "stdout",
     "output_type": "stream",
     "text": [
      "Foram encontrados 1 rostos\n"
     ]
    },
    {
     "data": {
      "text/html": [
       "<img src=\"results/criancas2.jpg\"/>"
      ],
      "text/plain": [
       "<IPython.core.display.Image object>"
      ]
     },
     "execution_count": 31,
     "metadata": {},
     "output_type": "execute_result"
    }
   ],
   "source": [
    "# Vou mostrar as demais saídas usando nossa função e chamando o iPython para exibir o resultado\n",
    "imgFaceDetect('data/img/criancas2.jpg', 'results/criancas2.jpg')\n",
    "Image(url = 'results/criancas2.jpg')"
   ]
  },
  {
   "cell_type": "markdown",
   "metadata": {},
   "source": [
    "## Referências\n",
    "\n",
    "ANTONELLO, Ricardo. **Introdução a Visão Computacional com Python e OpenCV**. Engenharia de Controle e Automação do Instituto Federal Catarinense–IFC, campus Luzerna, 2014.\n",
    "\n",
    "OpenCV.[**About**](https://opencv.org/about/). Acessado em 01/04/2021.\n",
    "\n",
    "Kleinam, Nilton - [**Entenda como funcionam os sistemas de reconhecimento facial**](https://www.terra.com.br/noticias/tecnologia/hardware-e-software/entenda-como-funcionam-os-sistemas-de-reconhecimento-facial,da888a19d13ea310VgnCLD200000bbcceb0aRCRD.html). Acessado em 30/03/2021\n",
    "\n",
    "---------------\n",
    "**crédito das imagens** \n",
    "\n",
    "- Imagem de <a href=\"https://br.freepik.com/seventyfour\">seventyfour</a>\n",
    "in <a href=\"https://br.freepik.com/fotos-premium/criancas-americanas-inter-raciais_8773881.htm\">FreePick</a>\n",
    "\n",
    "- Imagem de <a href=\"https://pixabay.com/pt/users/383961-383961/?utm_source=link-attribution&amp;utm_medium=referral&amp;utm_campaign=image&amp;utm_content=428909\">bigter choi</a> in <a href=\"https://pixabay.com/pt/photos/crian%C3%A7as-menina-menino-homem-%C3%ADndia-428909/\">Pixabay</a>\n",
    "\n",
    "- Imagem de <a href=\"https://pixabay.com/pt/users/keithjj-2328014/?utm_source=link-attribution&amp;utm_medium=referral&amp;utm_campaign=image&amp;utm_content=1488213\">Keith Johnston</a>(\n",
    " <a href=\"https://pixabay.com/pt/photos/multid%C3%A3o-f%C3%A3s-de-esportes-1584115/\">aqui</a> e <a href=\"https://pixabay.com/pt/photos/multid%C3%A3o-de-pessoas-multid%C3%A3o-1488213/\"> aqui.)</a>\n",
    "\n",
    "- Imagem de <a href=\"https://www.johnsnowlabs.com/the-math-behind-face-recognition/\">Mohamed Tharwat</a> THE MATH BEHIND FACE RECOGNITION\n",
    "\n",
    "- Imagem de <a href=\"https://pixabay.com/pt/users/ean254-4188723/?utm_source=link-attribution&utm_medium=referral&utm_campaign=image&utm_content=3137670\">Ian Ingalula</a> in [pixabay](https://pixabay.com/pt/photos/pessoas-grupo-crian%C3%A7as-menino-3137670/)\n",
    "\n"
   ]
  },
  {
   "cell_type": "markdown",
   "metadata": {},
   "source": [
    "## My social media profiles\n",
    "\n",
    "<table>   \n",
    "      <tr>\n",
    "         <td><a href=\"https://www.linkedin.com/in/jonasaacampos/\"><img src=source/social-icons/lkdin-50x50.png></a></td>\n",
    "         <td><a href=\"https://www.instagram.com/garotodeberlim/\"><img height=\"30\" src=source/social-icons/itg-50x50.png></a>\n",
    "   </td>\n",
    "         <td><a href=\"https://www.facebook.com/jonasaacampos\"><img height=\"30\" src=source/social-icons/fb-50x50.png></a></td>\n",
    "          <td><a href=\"https://github.com/jonasaacampos\"><img height=\"30\" src=source/social-icons/github-50x50.png></a></td>\n",
    "      </tr> \n",
    "</table>\n"
   ]
  }
 ],
 "metadata": {
  "kernelspec": {
   "display_name": "Python 3",
   "language": "python",
   "name": "python3"
  },
  "language_info": {
   "codemirror_mode": {
    "name": "ipython",
    "version": 3
   },
   "file_extension": ".py",
   "mimetype": "text/x-python",
   "name": "python",
   "nbconvert_exporter": "python",
   "pygments_lexer": "ipython3",
   "version": "3.8.5"
  }
 },
 "nbformat": 4,
 "nbformat_minor": 4
}
