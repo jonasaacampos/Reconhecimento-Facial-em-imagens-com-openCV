{
 "cells": [
  {
   "cell_type": "markdown",
   "metadata": {},
   "source": [
    "## Reconhecimento Facial em imagens com openCV"
   ]
  },
  {
   "cell_type": "markdown",
   "metadata": {},
   "source": [
    "O rosto humano, apesar das variações de pessoa para pessoa, possui uma composição básica que não se altera, lida pelos aplicativos como pontos em comum, que variam de acordo com a complexidade do sistema.\n",
    "\n",
    "Ao utilizar algoritmos e um software que mapeiam esse padrão nas pessoas, é possível registrar apenas o rosto ou todos os movimentos e empregá-los nas mais diversas funções. Todas possuem o mesmo princípio: detectar um rosto em formas geométricas e logarítmicas e então montá-lo como em um quebra-cabeça. (Kleina, 2021)\n",
    "\n",
    "Para reconhecer as imagens, usarei a Open Source Computer Vision Library (OpenCV), que é uma biblioteca com mais de 2500 algoritmos de visão computacional e aprendizado de máquina. Possui uma comunidade estimada em mais de 47 mil usuários colaboradores, e o download da biblioteca passa os 18 milhões (OpenCV, 2021)."
   ]
  },
  {
   "cell_type": "code",
   "execution_count": 7,
   "metadata": {},
   "outputs": [],
   "source": [
    "import cv2\n",
    "\n",
    "from IPython.display import Image"
   ]
  },
  {
   "cell_type": "code",
   "execution_count": 32,
   "metadata": {},
   "outputs": [
    {
     "output_type": "execute_result",
     "data": {
      "text/html": "<img src=\"/data/img/face-recognition-2.jpg\"/>",
      "text/plain": [
       "<IPython.core.display.Image object>"
      ]
     },
     "metadata": {},
     "execution_count": 32
    }
   ],
   "source": [
    "# para instalar a biblioteca OpenCV use o comando a seguir.\n",
    "#!pip install opencv-contrib-python\n",
    "Image(url='/data/img/face-recognition-2.jpg')"
   ]
  },
  {
   "cell_type": "markdown",
   "metadata": {},
   "source": [
    "## Como são reconhecidos os rostos em imagens?\n",
    "\n",
    "Para analisar estes arquivos, usarei a técnica do *haar-like cascades features*.\n",
    "Segundo Antonello (2014) a tradução desta técnica seria algo como “características em cascata do tipo haar”. A palavra *haar* não possui tradução já que o nome deriva dos *wavelets Haar* (ondaleta ou onduleta de Haar) que foram usados no primeiro detector de rosto em tempo real.\n",
    "\n",
    "*\"A principal vantagem da técnica é a baixa necessidade de processamento para realizar a identificação dos objetos, o que se traduz em alta velocidade de detecção. \"*\\[p.49\\]\n",
    "\n",
    "Foi desenvolvido um método baseado nas onduletas de Haar, que considera as regiões retangulares adjacentes num local específico e então ocorre o processamento da intensidades dos pixels em cada região, calculando a diferença entre eles e categorizando subseções da imagem.\n",
    "\n",
    "*Por exemplo, digamos que temos imagens com faces humanas. É uma característica comum que entre todas as faces a região dos olhos é mais escura do que a região das bochechas. Portanto, uma característica Haar comum para a detecção de face é um conjunto de dois retângulos adjacentes que ficam na região dos olhos e acima da região das bochechas. A posição desses retângulos é definida em relação a uma janela de detecção que age como uma caixa delimitadora para o objeto alvo (a face, neste caso).*\\[p49-50\\]\n",
    "\n",
    "A OpenCV possui modelos pré-treinados com para classificar rostos, olhos, narizes, sorrisos, etc.\n",
    "\n",
    "\n"
   ]
  },
  {
   "cell_type": "markdown",
   "metadata": {},
   "source": [
    "### Selecionado a imagem e transformado-a em uma matriz unidimencional (array)"
   ]
  },
  {
   "cell_type": "code",
   "execution_count": 34,
   "metadata": {},
   "outputs": [],
   "source": [
    "# carrega imagem e transforma em um array numpy\n",
    "img = cv2.imread('data/img/torcida2.jpg')\n",
    "# converte a imagem para tons de cinza( e transforma em um array numpy)\n",
    "img_gray_tone = cv2.cvtColor(img, cv2.COLOR_BGR2GRAY)"
   ]
  },
  {
   "cell_type": "code",
   "execution_count": 25,
   "metadata": {},
   "outputs": [],
   "source": [
    "# carrega padrões de identificação de faces\n",
    "default_faces_frontal = cv2.CascadeClassifier('data\\source\\haarcascade_frontalface_default.xml')"
   ]
  },
  {
   "cell_type": "code",
   "execution_count": 26,
   "metadata": {},
   "outputs": [],
   "source": [
    "# executa a detecção de faces\n",
    "faces = default_faces_frontal.detectMultiScale(img_gray_tone,\n",
    "                                              scaleFactor = 1.05,\n",
    "                                              minNeighbors = 7,\n",
    "                                              minSize = (20, 20),\n",
    "                                              flags = cv2.CASCADE_SCALE_IMAGE)"
   ]
  },
  {
   "cell_type": "code",
   "execution_count": 27,
   "metadata": {},
   "outputs": [],
   "source": [
    "# marca com retângulos as faces reconhecidas\n",
    "for (x, y, weight, height) in faces:\n",
    "    cv2.rectangle(img, (x, y), (x + weight, y + height), (0, 255, 255), 7)"
   ]
  },
  {
   "cell_type": "code",
   "execution_count": 28,
   "metadata": {},
   "outputs": [
    {
     "output_type": "execute_result",
     "data": {
      "text/plain": [
       "-1"
      ]
     },
     "metadata": {},
     "execution_count": 28
    }
   ],
   "source": [
    "# exibe a imagem com uma contagem dos rostos reconhecidos\n",
    "\n",
    "cv2.imshow(str(len(faces)) + 'rostos encontrados.', img)\n",
    "cv2.waitKey(0)"
   ]
  },
  {
   "cell_type": "code",
   "execution_count": 31,
   "metadata": {},
   "outputs": [
    {
     "output_type": "stream",
     "name": "stdout",
     "text": [
      "Foram encontrados 160 rostos\n"
     ]
    },
    {
     "output_type": "execute_result",
     "data": {
      "text/html": "<img src=\"results/result_profileface.jpg\"/>",
      "text/plain": [
       "<IPython.core.display.Image object>"
      ]
     },
     "metadata": {},
     "execution_count": 31
    }
   ],
   "source": [
    "# salva imagem marcada\n",
    "\n",
    "print(f'Foram encontrados {len(faces)} rostos')\n",
    "cv2.imwrite('results/result_profileface.jpg', img)\n",
    "\n",
    "# exibe a imagem nesta mesma janela\n",
    "Image(url = 'results/result_profileface.jpg')"
   ]
  },
  {
   "source": [
    "## Classidores em cascata\n",
    "\n",
    "Em vez de aplicar todos os 6000 recursos em uma janela, agrupe os recursos em diferentes estágios de classificadores e aplique um por um. (Normalmente os primeiros estágios conterão um número muito menor de recursos). Se uma janela falhar no primeiro estágio, descarte-o. Não consideramos os recursos restantes nele. Se passar, aplique o segundo estágio de recursos e continue o processo. A janela que passa por todos os estágios é uma região de rosto. \n",
    "\n",
    "<p align='center'>\n",
    "    <img alt=\"Como a Haar Cascade reconhece rostos (e outros objetos)\" style=\"border-width:0\" src=\"https://www.bogotobogo.com/python/OpenCV_Python/images/FaceDetection/stages.png\">\n",
    "    <br/>\n",
    "    source: bogotobogo, 2021.\n",
    "</p>\n",
    "\n",
    "\n"
   ],
   "cell_type": "markdown",
   "metadata": {}
  },
  {
   "source": [
    "Quando usamos o classificador em cascata para identificar as imagens no OpenCV, precisamos do método *detectMultiScale()*, cuja sintaxe é a seguinte:\n",
    "\n",
    "-----------------------\n",
    "\n",
    "```\n",
    "cv2.CascadeClassifier.detectMultiScale(image, scaleFactor, minNeighbors, flags, minSize, maxSize)\n",
    "```\n",
    "---------------------\n",
    "\n",
    "1. **imagem:** Matriz do tipo CV_8U contendo uma imagem onde os objetos são detectados.\n",
    "1. **scaleFactor:** Parâmetro que especifica o quanto o tamanho da imagem é reduzido em cada escala da imagem.\n",
    "Este fator de escala é usado para criar a pirâmide de escala conforme mostrado na imagem. Suponha que o fator de escala seja 1,03, isso significa que estamos usando um pequeno passo para redimensionar, ou seja, reduzir o tamanho em 3%, aumentamos a chance de um tamanho de correspondência com o modelo para detecção ser encontrado, embora seja caro.\n",
    "1. **minNeighbors:** parâmetro que especifica quantos vizinhos cada retângulo candidato deve ter para retê-lo. Este parâmetro afetará a qualidade dos rostos detectados: valores mais altos resultam em menos detecções, mas com qualidade superior. Estamos usando 5 no código.\n",
    "1. **flags:** Parâmetro com o mesmo significado para uma cascata antiga como na função cvHaarDetectObjects. Não é usado para uma nova cascata.\n",
    "1. **minSize:** Tamanho mínimo do objeto possível. Objetos menores do que isso são ignorados.\n",
    "1. **maxSize:** Tamanho máximo do objeto possível. Objetos maiores do que isso são ignorados.\n",
    "\n",
    "--------------"
   ],
   "cell_type": "markdown",
   "metadata": {}
  },
  {
   "cell_type": "markdown",
   "metadata": {},
   "source": [
    "Na nossa imagem podemos observar que ficaram vários rostos sem serem reconhecidos, **vamos melhorar nosso código.**\n",
    "\n",
    "#### Vamos criar uma função para reconhecer as imagens (e melhorar o reconhecimento)\n",
    "\n",
    "Até aqui usamos os comandos isolados para melhor compreensão e explicação do tema. Vamos unir os passos anteriores em funções, para agilizar nossa vida.\n"
   ]
  },
  {
   "cell_type": "code",
   "execution_count": 33,
   "metadata": {},
   "outputs": [],
   "source": [
    "def imgFaceDetect(arquivo, nome_resultado):\n",
    "    \n",
    "    import cv2 as cv\n",
    "\n",
    "    \"\"\"\n",
    "    função que recebe o caminho do arquivo e o nome do arquivo a ser salvo.\n",
    "    o arquivo recebido é transformado em uma matriz, depois é analisado com\n",
    "    base nos padrões de reconhecimento de rosto e retorna um arquivo marcado\n",
    "    e conta a quantidade de rostos que reconheceu.\n",
    "\n",
    "    Args:\n",
    "    [user input]\n",
    "    arquivo ([str]): caminho do arquivo de entrada. (ex.:'dir/img/figura.jpg')\n",
    "    nome_resultado ([str]): caminho do arquivo de saída. (ex: 'dir/results/figura.jpg') \n",
    "\n",
    "    [pre-defition input]\n",
    "    haar_cascade: arquivo marcado com as onduletas de haar\n",
    "    faces: percorre a matriz da imagem BGR usando o método de haar. Para isso usamos \n",
    "    o v2.CascadeClassifier.detectMultiScale () para encontrar rostos ou olhos, e é definido assim:\n",
    "        cv2.CascadeClassifier.detectMultiScale (image , scaleFactor , minNeighbors , flags , minSize ,maxSize) \n",
    "    pra uma referência completa, consultar:\n",
    "    https://www.bogotobogo.com/python/OpenCV_Python/python_opencv3_Image_Object_Detection_Face_Detection_Haar_Cascade_Classifiers.php\n",
    "\n",
    "    \"\"\"\n",
    "\n",
    "    # carrega imagem e transforma em um array numpy\n",
    "    img = cv.imread(arquivo)\n",
    "    # converte a imagem para tons de cinza (e transforma em um array numpy)\n",
    "    img_gray_tone = cv.cvtColor(img, cv.COLOR_BGR2GRAY)\n",
    "\n",
    "    # carrega padrões de identificação de faces\n",
    "    haar_cascade = cv.CascadeClassifier('data\\source\\haarcascade_frontalface_default.xml')\n",
    "\n",
    "    # executa a detecção de faces\n",
    "    # retorna um array com coordenadas, onde cada coordenada representa\n",
    "    # um rosto detectado\n",
    "    faces = haar_cascade.detectMultiScale(\n",
    "        img_gray_tone, 1.01, minNeighbors=7, minSize=(20, 20), flags=cv.CASCADE_SCALE_IMAGE\n",
    "    )\n",
    "    # percorre a matriz faces e marca um retângulo seguindo as coordenadas mostradas na matriz\n",
    "    # a marcação da cor do retângulo está em BGR, neste caso, nossos retângulos serão amarelos\n",
    "    for (x, y, weight, height) in faces:\n",
    "        cv.rectangle(img, (x, y), (x + weight, y + height), (0, 255, 255), 2)\n",
    "\n",
    "    # salva imagem marcada\n",
    "    cv.imwrite(nome_resultado, img)     \n",
    "    #mostra quantos rostos foram identificados\n",
    "    print(f\"Foram encontrados {len(faces)} rostos\")"
   ]
  },
  {
   "cell_type": "code",
   "execution_count": 21,
   "metadata": {},
   "outputs": [
    {
     "output_type": "stream",
     "name": "stdout",
     "text": [
      "Foram encontrados 265 rostos\n"
     ]
    },
    {
     "output_type": "execute_result",
     "data": {
      "text/html": "<img src=\"results/torcida2.jpg\"/>",
      "text/plain": [
       "<IPython.core.display.Image object>"
      ]
     },
     "metadata": {},
     "execution_count": 21
    }
   ],
   "source": [
    "imgFaceDetect('data/img/torcida2.jpg', 'results/torcida2.jpg')\n",
    "Image(url = 'results/torcida2.jpg')"
   ]
  },
  {
   "cell_type": "code",
   "execution_count": 30,
   "metadata": {},
   "outputs": [
    {
     "output_type": "stream",
     "name": "stdout",
     "text": [
      "Foram encontrados 146 rostos\n"
     ]
    },
    {
     "output_type": "execute_result",
     "data": {
      "text/html": "<img src=\"results/torcida1.jpg\"/>",
      "text/plain": [
       "<IPython.core.display.Image object>"
      ]
     },
     "metadata": {},
     "execution_count": 30
    }
   ],
   "source": [
    "imgFaceDetect('data/img/torcida1.jpg', 'results/torcida1.jpg')\n",
    "Image(url = 'results/torcida1.jpg')"
   ]
  },
  {
   "cell_type": "code",
   "execution_count": 16,
   "metadata": {
    "scrolled": true
   },
   "outputs": [
    {
     "output_type": "stream",
     "name": "stdout",
     "text": [
      "Foram encontrados 16 rostos\n"
     ]
    },
    {
     "output_type": "execute_result",
     "data": {
      "text/html": "<img src=\"results/criancas1.jpg\"/>",
      "text/plain": [
       "<IPython.core.display.Image object>"
      ]
     },
     "metadata": {},
     "execution_count": 16
    }
   ],
   "source": [
    "# Vou mostrar as demais saídas usando nossa função e chamando o iPython para exibir o resultado\n",
    "imgFaceDetect('data/img/criancas1.jpg', 'results/criancas1.jpg')\n",
    "from IPython.display import Image\n",
    "Image(url = 'results/criancas1.jpg')"
   ]
  },
  {
   "cell_type": "code",
   "execution_count": 17,
   "metadata": {},
   "outputs": [
    {
     "output_type": "stream",
     "name": "stdout",
     "text": [
      "Foram encontrados 9 rostos\n"
     ]
    },
    {
     "output_type": "execute_result",
     "data": {
      "text/html": "<img src=\"results/criancas3.jpg\"/>",
      "text/plain": [
       "<IPython.core.display.Image object>"
      ]
     },
     "metadata": {},
     "execution_count": 17
    }
   ],
   "source": [
    "# Vou mostrar as demais saídas usando nossa função e chamando o iPython para exibir o resultado\n",
    "imgFaceDetect('data/img/criancas3.jpg', 'results/criancas3.jpg')\n",
    "Image(url = 'results/criancas3.jpg')"
   ]
  },
  {
   "cell_type": "code",
   "execution_count": 18,
   "metadata": {},
   "outputs": [
    {
     "output_type": "stream",
     "name": "stdout",
     "text": [
      "Foram encontrados 18 rostos\n"
     ]
    },
    {
     "output_type": "execute_result",
     "data": {
      "text/html": "<img src=\"results/criancas2.jpg\"/>",
      "text/plain": [
       "<IPython.core.display.Image object>"
      ]
     },
     "metadata": {},
     "execution_count": 18
    }
   ],
   "source": [
    "# Vou mostrar as demais saídas usando nossa função e chamando o iPython para exibir o resultado\n",
    "imgFaceDetect('data/img/criancas2.jpg', 'results/criancas2.jpg')\n",
    "Image(url = 'results/criancas2.jpg')"
   ]
  },
  {
   "source": [
    "## Considerações finais\n",
    "\n",
    "É preciso ajustar o fator de scala e outros parâmetros do método **.detectMultiScale()** para cada caso de análise.\n",
    "\n",
    "Nas imagens com visão ampla, como as da torcida, o resultado da detecção foi consideravelmente bom. Todavia, ao usar os mesmos parâmetros para grupos menores, há uma grande quantidade de falsos positivos, ruídos nas imagens.\n",
    "\n",
    "O objetivo deste material foi apresentar o básico do reconhecimento facial em imagens, passando de uma visão geral sobre a teoria do reconhecimento facial por visão computacional, até o uso prático da ferramenta openCV.\n",
    "\n",
    "Caso tenha sugestões ou correções para este material, por favor entre em contato por alguns dos meios citados ao fim deste artigo."
   ],
   "cell_type": "markdown",
   "metadata": {}
  },
  {
   "cell_type": "markdown",
   "metadata": {},
   "source": [
    "## Referências\n",
    "\n",
    "ANTONELLO, Ricardo. **Introdução a Visão Computacional com Python e OpenCV**. Engenharia de Controle e Automação do Instituto Federal Catarinense–IFC, campus Luzerna, 2014.\n",
    "\n",
    "BogoToBogo.[**OBJECT DETECTION : FACE DETECTION USING HAAR CASCADE CLASSFIERS**](https://www.bogotobogo.com/python/OpenCV_Python/python_opencv3_Image_Object_Detection_Face_Detection_Haar_Cascade_Classifiers.php). Acessado em 06/04/2021.\n",
    "\n",
    "Kleinam, Nilton - [**Entenda como funcionam os sistemas de reconhecimento facial**](https://www.terra.com.br/noticias/tecnologia/hardware-e-software/entenda-como-funcionam-os-sistemas-de-reconhecimento-facial,da888a19d13ea310VgnCLD200000bbcceb0aRCRD.html). Acessado em 30/03/2021\n",
    "\n",
    "OpenCV.[**About**](https://opencv.org/about/). Acessado em 01/04/2021.\n",
    "\n",
    "---------------\n",
    "**crédito das imagens** \n",
    "\n",
    "- Imagem de <a href=\"https://br.freepik.com/seventyfour\">seventyfour</a>\n",
    "in <a href=\"https://br.freepik.com/fotos-premium/criancas-americanas-inter-raciais_8773881.htm\">FreePick</a>\n",
    "\n",
    "- Imagem de <a href=\"https://pixabay.com/pt/users/383961-383961/?utm_source=link-attribution&amp;utm_medium=referral&amp;utm_campaign=image&amp;utm_content=428909\">bigter choi</a> in <a href=\"https://pixabay.com/pt/photos/crian%C3%A7as-menina-menino-homem-%C3%ADndia-428909/\">Pixabay</a>\n",
    "\n",
    "- Imagem de <a href=\"https://pixabay.com/pt/users/keithjj-2328014/?utm_source=link-attribution&amp;utm_medium=referral&amp;utm_campaign=image&amp;utm_content=1488213\">Keith Johnston</a>(\n",
    " <a href=\"https://pixabay.com/pt/photos/multid%C3%A3o-f%C3%A3s-de-esportes-1584115/\">aqui</a> e <a href=\"https://pixabay.com/pt/photos/multid%C3%A3o-de-pessoas-multid%C3%A3o-1488213/\"> aqui.)</a>\n",
    "\n",
    "- Imagem de <a href=\"https://www.johnsnowlabs.com/the-math-behind-face-recognition/\">Mohamed Tharwat</a> THE MATH BEHIND FACE RECOGNITION\n",
    "\n",
    "- Imagem de <a href=\"https://pixabay.com/pt/users/ean254-4188723/?utm_source=link-attribution&utm_medium=referral&utm_campaign=image&utm_content=3137670\">Ian Ingalula</a> in [pixabay](https://pixabay.com/pt/photos/pessoas-grupo-crian%C3%A7as-menino-3137670/)\n",
    "\n"
   ]
  },
  {
   "cell_type": "markdown",
   "metadata": {},
   "source": [
    "## Contato\n",
    "\n",
    "**Author:** Jonas Araujo de Avila Campos\n",
    "\n",
    "**Confira mais projetos: [AQUI](https://jonasaacampos.github.io/portifolio/)**\n",
    "\n",
    "<p align='center'>\n",
    "\n",
    "  <a href='https://github.com/jonasaacampos'>\n",
    "    <img src='https://img.shields.io/badge/GitHub-100000?style=for-the-badge&logo=github&logoColor=white'/>\n",
    "  </a>\n",
    "\n",
    "  <a href='https://www.linkedin.com/in/jonasaacampos/'>\n",
    "    <img src='https://img.shields.io/badge/LinkedIn-0077B5?style=for-the-badge&logo=linkedin&logoColor=white'/>\n",
    "  </a>\n",
    "\n",
    "  <a href='https://www.facebook.com/jonasaacampos'>\n",
    "    <img src='https://img.shields.io/badge/Facebook-1877F2?style=for-the-badge&logo=facebook&logoColor=white'/>\n",
    "  </a>\n",
    "  \n",
    "</p>"
   ]
  }
 ],
 "metadata": {
  "kernelspec": {
   "name": "python391jvsc74a57bd095f4d7312e4749cf2e8fc4c1c9cf2b78fb31601cfb1cc9a409e9a5f0fa10cf8c",
   "display_name": "Python 3.9.1 64-bit"
  },
  "language_info": {
   "codemirror_mode": {
    "name": "ipython",
    "version": 3
   },
   "file_extension": ".py",
   "mimetype": "text/x-python",
   "name": "python",
   "nbconvert_exporter": "python",
   "pygments_lexer": "ipython3",
   "version": "3.9.1"
  },
  "metadata": {
   "interpreter": {
    "hash": "95f4d7312e4749cf2e8fc4c1c9cf2b78fb31601cfb1cc9a409e9a5f0fa10cf8c"
   }
  }
 },
 "nbformat": 4,
 "nbformat_minor": 4
}
